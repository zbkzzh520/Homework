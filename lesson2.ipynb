{
 "cells": [
  {
   "cell_type": "code",
   "execution_count": 4,
   "metadata": {},
   "outputs": [],
   "source": [
    "coordination_source = \"\"\"\n",
    "{name:'兰州', geoCoord:[103.73, 36.03]},\n",
    "{name:'嘉峪关', geoCoord:[98.17, 39.47]},\n",
    "{name:'西宁', geoCoord:[101.74, 36.56]},\n",
    "{name:'成都', geoCoord:[104.06, 30.67]},\n",
    "{name:'石家庄', geoCoord:[114.48, 38.03]},\n",
    "{name:'拉萨', geoCoord:[102.73, 25.04]},\n",
    "{name:'贵阳', geoCoord:[106.71, 26.57]},\n",
    "{name:'武汉', geoCoord:[114.31, 30.52]},\n",
    "{name:'郑州', geoCoord:[113.65, 34.76]},\n",
    "{name:'济南', geoCoord:[117, 36.65]},\n",
    "{name:'南京', geoCoord:[118.78, 32.04]},\n",
    "{name:'合肥', geoCoord:[117.27, 31.86]},\n",
    "{name:'杭州', geoCoord:[120.19, 30.26]},\n",
    "{name:'南昌', geoCoord:[115.89, 28.68]},\n",
    "{name:'福州', geoCoord:[119.3, 26.08]},\n",
    "{name:'广州', geoCoord:[113.23, 23.16]},\n",
    "{name:'长沙', geoCoord:[113, 28.21]},\n",
    "//{name:'海口', geoCoord:[110.35, 20.02]},\n",
    "{name:'沈阳', geoCoord:[123.38, 41.8]},\n",
    "{name:'长春', geoCoord:[125.35, 43.88]},\n",
    "{name:'哈尔滨', geoCoord:[126.63, 45.75]},\n",
    "{name:'太原', geoCoord:[112.53, 37.87]},\n",
    "{name:'西安', geoCoord:[108.95, 34.27]},\n",
    "//{name:'台湾', geoCoord:[121.30, 25.03]},\n",
    "{name:'北京', geoCoord:[116.46, 39.92]},\n",
    "{name:'上海', geoCoord:[121.48, 31.22]},\n",
    "{name:'重庆', geoCoord:[106.54, 29.59]},\n",
    "{name:'天津', geoCoord:[117.2, 39.13]},\n",
    "{name:'呼和浩特', geoCoord:[111.65, 40.82]},\n",
    "{name:'南宁', geoCoord:[108.33, 22.84]},\n",
    "//{name:'西藏', geoCoord:[91.11, 29.97]},\n",
    "{name:'银川', geoCoord:[106.27, 38.47]},\n",
    "{name:'乌鲁木齐', geoCoord:[87.68, 43.77]},\n",
    "{name:'香港', geoCoord:[114.17, 22.28]},\n",
    "{name:'澳门', geoCoord:[113.54, 22.19]}\n",
    "\"\"\""
   ]
  },
  {
   "cell_type": "code",
   "execution_count": 5,
   "metadata": {},
   "outputs": [],
   "source": [
    "import re\n",
    "city_location = {\n",
    "    '香港': (114.17, 22.28)\n",
    "}\n",
    "pattern = re.compile(r\"name:'(\\w+)',\\s+geoCoord:\\[(\\d+.\\d+),\\s(\\d+.\\d+)\\]\")\n",
    "for line in coordination_source.split('\\n'):\n",
    "    city_info = pattern.findall(line)\n",
    "    if not city_info: continue\n",
    "    \n",
    "    # following: we find the city info\n",
    "    \n",
    "    city, long, lat = city_info[0]\n",
    "    \n",
    "    long, lat = float(long), float(lat)\n",
    "    \n",
    "    city_location[city] = (long, lat)"
   ]
  },
  {
   "cell_type": "code",
   "execution_count": 6,
   "metadata": {},
   "outputs": [
    {
     "data": {
      "text/plain": [
       "{'香港': (114.17, 22.28),\n",
       " '兰州': (103.73, 36.03),\n",
       " '嘉峪关': (98.17, 39.47),\n",
       " '西宁': (101.74, 36.56),\n",
       " '成都': (104.06, 30.67),\n",
       " '石家庄': (114.48, 38.03),\n",
       " '拉萨': (102.73, 25.04),\n",
       " '贵阳': (106.71, 26.57),\n",
       " '武汉': (114.31, 30.52),\n",
       " '郑州': (113.65, 34.76),\n",
       " '济南': (117.0, 36.65),\n",
       " '南京': (118.78, 32.04),\n",
       " '合肥': (117.27, 31.86),\n",
       " '杭州': (120.19, 30.26),\n",
       " '南昌': (115.89, 28.68),\n",
       " '福州': (119.3, 26.08),\n",
       " '广州': (113.23, 23.16),\n",
       " '长沙': (113.0, 28.21),\n",
       " '海口': (110.35, 20.02),\n",
       " '沈阳': (123.38, 41.8),\n",
       " '长春': (125.35, 43.88),\n",
       " '哈尔滨': (126.63, 45.75),\n",
       " '太原': (112.53, 37.87),\n",
       " '西安': (108.95, 34.27),\n",
       " '台湾': (121.3, 25.03),\n",
       " '北京': (116.46, 39.92),\n",
       " '上海': (121.48, 31.22),\n",
       " '重庆': (106.54, 29.59),\n",
       " '天津': (117.2, 39.13),\n",
       " '呼和浩特': (111.65, 40.82),\n",
       " '南宁': (108.33, 22.84),\n",
       " '西藏': (91.11, 29.97),\n",
       " '银川': (106.27, 38.47),\n",
       " '乌鲁木齐': (87.68, 43.77),\n",
       " '澳门': (113.54, 22.19)}"
      ]
     },
     "execution_count": 6,
     "metadata": {},
     "output_type": "execute_result"
    }
   ],
   "source": [
    "import re\n",
    "city_location={\n",
    "    '香港':(114.17,22.28)\n",
    "}\n",
    "pattern=re.compile(r\"name:'(\\w+)',\\s+geoCoord:\\[(\\d+.\\d+),\\s(\\d+.\\d+)\\]\")\n",
    "for line in coordination_source.split('\\n'):\n",
    "    city_info=pattern.findall(line)\n",
    "    if not city_info:continue\n",
    "    city, long, lat= city_info[0]\n",
    "    long, lat= float(long), float(lat)\n",
    "    city_location[city]= (long, lat)\n",
    "city_location\n",
    "    "
   ]
  },
  {
   "cell_type": "code",
   "execution_count": 7,
   "metadata": {},
   "outputs": [
    {
     "data": {
      "text/plain": [
       "153.5185697155768"
      ]
     },
     "execution_count": 7,
     "metadata": {},
     "output_type": "execute_result"
    }
   ],
   "source": [
    "import math\n",
    "def geo_distance(origin, destination):\n",
    "    lat1, lon1 = origin\n",
    "    lat2, lon2 = destination\n",
    "    radius = 6371  # km\n",
    "\n",
    "    dlat = math.radians(lat2 - lat1)\n",
    "    dlon = math.radians(lon2 - lon1)\n",
    "    a = (math.sin(dlat / 2) * math.sin(dlat / 2) +\n",
    "         math.cos(math.radians(lat1)) * math.cos(math.radians(lat2)) *\n",
    "         math.sin(dlon / 2) * math.sin(dlon / 2))\n",
    "    c = 2 * math.atan2(math.sqrt(a), math.sqrt(1 - a))\n",
    "    d = radius * c\n",
    "\n",
    "    return d\n",
    "def get_geo_distance(city1, city2):\n",
    "    return geo_distance(city_location[city1], city_location[city2])\n",
    "get_geo_distance('上海','杭州')"
   ]
  },
  {
   "cell_type": "code",
   "execution_count": 8,
   "metadata": {},
   "outputs": [
    {
     "name": "stdout",
     "output_type": "stream",
     "text": [
      "Requirement already satisfied: networkx in /Users/a1701210037/anaconda3/lib/python3.7/site-packages (2.2)\r\n",
      "Requirement already satisfied: decorator>=4.3.0 in /Users/a1701210037/anaconda3/lib/python3.7/site-packages (from networkx) (4.3.0)\r\n"
     ]
    }
   ],
   "source": [
    "! pip install networkx"
   ]
  },
  {
   "cell_type": "code",
   "execution_count": 9,
   "metadata": {},
   "outputs": [],
   "source": [
    "import networkx as nx"
   ]
  },
  {
   "cell_type": "code",
   "execution_count": 10,
   "metadata": {},
   "outputs": [
    {
     "name": "stdout",
     "output_type": "stream",
     "text": [
      "['/Users/a1701210037/anaconda3/lib/python3.7/site-packages/matplotlib']\n"
     ]
    }
   ],
   "source": [
    "import matplotlib\n",
    "print(matplotlib.__path__)"
   ]
  },
  {
   "cell_type": "code",
   "execution_count": 12,
   "metadata": {},
   "outputs": [
    {
     "data": {
      "image/png": "[encoded data removed]",
      "text/plain": [
       "<Figure size 432x288 with 1 Axes>"
      ]
     },
     "metadata": {},
     "output_type": "display_data"
    }
   ],
   "source": [
    "city_graph=nx.Graph()\n",
    "city_graph.add_nodes_from(list(city_location.keys()))\n",
    "%matplotlib inline\n",
    "import matplotlib.pyplot as plt\n",
    "nx.draw(city_graph,city_location,with_labels=True,node_side=30)"
   ]
  },
  {
   "cell_type": "code",
   "execution_count": 13,
   "metadata": {},
   "outputs": [
    {
     "ename": "NameError",
     "evalue": "name 'defaultdict' is not defined",
     "output_type": "error",
     "traceback": [
      "\u001b[0;31m---------------------------------------------------------------------------\u001b[0m",
      "\u001b[0;31mNameError\u001b[0m                                 Traceback (most recent call last)",
      "\u001b[0;32m<ipython-input-13-582053b8313c>\u001b[0m in \u001b[0;36m<module>\u001b[0;34m\u001b[0m\n\u001b[1;32m      1\u001b[0m \u001b[0mthreshold\u001b[0m \u001b[0;34m=\u001b[0m\u001b[0;36m300\u001b[0m\u001b[0;34m\u001b[0m\u001b[0;34m\u001b[0m\u001b[0m\n\u001b[0;32m----> 2\u001b[0;31m \u001b[0mcity_connection\u001b[0m \u001b[0;34m=\u001b[0m \u001b[0mdefaultdict\u001b[0m\u001b[0;34m(\u001b[0m\u001b[0mlist\u001b[0m\u001b[0;34m)\u001b[0m\u001b[0;34m\u001b[0m\u001b[0;34m\u001b[0m\u001b[0m\n\u001b[0m\u001b[1;32m      3\u001b[0m \u001b[0;32mfor\u001b[0m \u001b[0mc1\u001b[0m \u001b[0;32min\u001b[0m \u001b[0mcity_location\u001b[0m\u001b[0;34m:\u001b[0m\u001b[0;34m\u001b[0m\u001b[0;34m\u001b[0m\u001b[0m\n\u001b[1;32m      4\u001b[0m     \u001b[0;32mfor\u001b[0m \u001b[0mc2\u001b[0m \u001b[0;32min\u001b[0m \u001b[0mcity_location\u001b[0m\u001b[0;34m:\u001b[0m\u001b[0;34m\u001b[0m\u001b[0;34m\u001b[0m\u001b[0m\n\u001b[1;32m      5\u001b[0m         \u001b[0;32mif\u001b[0m \u001b[0mc1\u001b[0m\u001b[0;34m==\u001b[0m\u001b[0mc2\u001b[0m\u001b[0;34m:\u001b[0m\u001b[0;32mcontinue\u001b[0m\u001b[0;34m\u001b[0m\u001b[0;34m\u001b[0m\u001b[0m\n",
      "\u001b[0;31mNameError\u001b[0m: name 'defaultdict' is not defined"
     ]
    }
   ],
   "source": [
    "threshold =300\n",
    "city_connection = defaultdict(list)\n",
    "for c1 in city_location:\n",
    "    for c2 in city_location:\n",
    "        if c1==c2:continue\n",
    "        distance=get_geo_distance(c1,c2)\n",
    "        if distance<threshold:\n",
    "            city_connection[c1].append(c2)\n",
    "            city_connection[c2].append(c1)\n",
    "city_connection"
   ]
  },
  {
   "cell_type": "code",
   "execution_count": 14,
   "metadata": {},
   "outputs": [],
   "source": [
    "from collections import defaultdict\n",
    "threshold = 300\n",
    "city_connection = defaultdict(list)\n",
    "for c1 in city_location:\n",
    "    for c2 in city_location:\n",
    "        if c1 == c2: continue\n",
    "        \n",
    "        distance = get_geo_distance(c1, c2)\n",
    "        \n",
    "        if distance < threshold:\n",
    "            city_connection[c1].append(c2)\n",
    "            city_connection[c2].append(c1)"
   ]
  },
  {
   "cell_type": "code",
   "execution_count": 39,
   "metadata": {},
   "outputs": [
    {
     "data": {
      "text/plain": [
       "defaultdict(list,\n",
       "            {'香港': ['广州', '长沙', '澳门', '广州', '长沙', '澳门'],\n",
       "             '广州': ['香港', '香港', '长沙', '澳门', '长沙', '澳门'],\n",
       "             '长沙': ['香港',\n",
       "              '武汉',\n",
       "              '郑州',\n",
       "              '广州',\n",
       "              '香港',\n",
       "              '武汉',\n",
       "              '郑州',\n",
       "              '广州',\n",
       "              '澳门',\n",
       "              '澳门'],\n",
       "             '澳门': ['香港', '广州', '长沙', '香港', '广州', '长沙'],\n",
       "             '兰州': ['西宁', '成都', '银川', '西宁', '成都', '银川'],\n",
       "             '西宁': ['兰州', '兰州', '成都', '拉萨', '成都', '拉萨'],\n",
       "             '成都': ['兰州', '西宁', '兰州', '西宁', '拉萨', '重庆', '拉萨', '重庆'],\n",
       "             '银川': ['兰州', '重庆', '兰州', '重庆'],\n",
       "             '拉萨': ['西宁', '成都', '西宁', '成都'],\n",
       "             '重庆': ['成都', '贵阳', '成都', '贵阳', '银川', '银川'],\n",
       "             '石家庄': ['郑州', '济南', '太原', '北京', '郑州', '济南', '太原', '北京'],\n",
       "             '郑州': ['石家庄', '武汉', '石家庄', '武汉', '长沙', '太原', '长沙', '太原'],\n",
       "             '济南': ['石家庄', '石家庄', '合肥', '北京', '天津', '合肥', '北京', '天津'],\n",
       "             '太原': ['石家庄', '郑州', '石家庄', '郑州', '呼和浩特', '呼和浩特'],\n",
       "             '北京': ['石家庄', '济南', '石家庄', '济南', '天津', '天津'],\n",
       "             '贵阳': ['重庆', '南宁', '重庆', '南宁'],\n",
       "             '南宁': ['贵阳', '海口', '贵阳', '海口'],\n",
       "             '武汉': ['郑州', '南昌', '长沙', '郑州', '南昌', '长沙'],\n",
       "             '南昌': ['武汉', '合肥', '武汉', '合肥'],\n",
       "             '合肥': ['济南', '南京', '济南', '南京', '南昌', '南昌'],\n",
       "             '天津': ['济南', '北京', '济南', '北京'],\n",
       "             '南京': ['合肥', '杭州', '合肥', '杭州'],\n",
       "             '杭州': ['南京', '南京', '福州', '上海', '福州', '上海'],\n",
       "             '福州': ['杭州', '杭州', '台湾', '台湾'],\n",
       "             '上海': ['杭州', '杭州'],\n",
       "             '台湾': ['福州', '福州'],\n",
       "             '海口': ['南宁', '南宁'],\n",
       "             '沈阳': ['长春', '长春'],\n",
       "             '长春': ['沈阳', '沈阳', '哈尔滨', '哈尔滨'],\n",
       "             '哈尔滨': ['长春', '长春'],\n",
       "             '呼和浩特': ['太原', '太原']})"
      ]
     },
     "execution_count": 39,
     "metadata": {},
     "output_type": "execute_result"
    }
   ],
   "source": [
    "city_connection"
   ]
  },
  {
   "cell_type": "code",
   "execution_count": 15,
   "metadata": {},
   "outputs": [
    {
     "name": "stderr",
     "output_type": "stream",
     "text": [
      "/Users/a1701210037/anaconda3/lib/python3.7/site-packages/networkx/drawing/nx_pylab.py:611: MatplotlibDeprecationWarning: isinstance(..., numbers.Number)\n",
      "  if cb.is_numlike(alpha):\n"
     ]
    },
    {
     "data": {
      "image/png": "[encoded data removed]",
      "text/plain": [
       "<Figure size 432x288 with 1 Axes>"
      ]
     },
     "metadata": {},
     "output_type": "display_data"
    }
   ],
   "source": [
    "city_with_road=nx.Graph(city_connection)\n",
    "nx.draw(city_with_road,city_location,with_labels=True,node_side=30)"
   ]
  },
  {
   "cell_type": "code",
   "execution_count": 16,
   "metadata": {},
   "outputs": [],
   "source": [
    "simple_connection_info_src = {\n",
    "    '北京': ['太原', '沈阳'],\n",
    "    '太原': ['北京', '西安', '郑州'],\n",
    "    '兰州': ['西安'],\n",
    "    '郑州': ['太原'],\n",
    "    '西安': ['兰州', '长沙'],\n",
    "    '长沙': ['福州', '南宁'],\n",
    "    '沈阳': ['北京']\n",
    "}\n",
    "simple_connection_info = defaultdict(list)\n",
    "simple_connection_info.update(simple_connection_info_src)\n",
    "def bfs(graph, start):\n",
    "    \"\"\"\n",
    "    breath first search\n",
    "    \"\"\"\n",
    "    visited = [start]\n",
    "    \n",
    "    seen = set()\n",
    "    \n",
    "    while visited:\n",
    "        froninter = visited.pop() #\n",
    "        \n",
    "        if froninter in seen: continue\n",
    "        \n",
    "        for successor in graph[froninter]:\n",
    "            if successor in seen: continue\n",
    "            print(successor)\n",
    "            \n",
    "            #visited = visited + [successor] # 我们每次扩展都扩展最新发现的点 -> depth first\n",
    "            visited = [successor] + visited # 我们每次扩展都先考虑已经发现的 老的点 -> breath first\n",
    "            \n",
    "            # 所以说，这个扩展顺序其实是决定了我们的深度优先还是广度优先\n",
    "    \n",
    "        seen.add(froninter)\n",
    "    \n",
    "    return seen"
   ]
  },
  {
   "cell_type": "code",
   "execution_count": 18,
   "metadata": {},
   "outputs": [
    {
     "name": "stdout",
     "output_type": "stream",
     "text": [
      "1\n",
      "4\n",
      "3\n",
      "6\n",
      "5\n",
      "7\n",
      "8\n"
     ]
    },
    {
     "data": {
      "text/plain": [
       "{1, 2, 3, 4, 5, 6, 7, 8}"
      ]
     },
     "execution_count": 18,
     "metadata": {},
     "output_type": "execute_result"
    }
   ],
   "source": [
    "number_grpah = defaultdict(list)\n",
    "\n",
    "number_grpah.update({\n",
    "    1: [2, 3],\n",
    "    2: [1, 4], \n",
    "    3: [1, 5],\n",
    "    4: [2, 6], \n",
    "    5: [3, 7],\n",
    "    7: [5, 8]\n",
    "})\n",
    "bfs(number_grpah, 2)"
   ]
  },
  {
   "cell_type": "code",
   "execution_count": 24,
   "metadata": {},
   "outputs": [
    {
     "name": "stdout",
     "output_type": "stream",
     "text": [
      "true\n"
     ]
    }
   ],
   "source": [
    "visited = [1]\n",
    "if visited:\n",
    "    print ('true')\n",
    "else:\n",
    "    print('false')\n",
    "    \n",
    "        "
   ]
  },
  {
   "cell_type": "code",
   "execution_count": 26,
   "metadata": {},
   "outputs": [
    {
     "name": "stdout",
     "output_type": "stream",
     "text": [
      "菜鸟教程\n"
     ]
    }
   ],
   "source": [
    "site= {'name': '菜鸟教程', 'alexa': 10000, 'url': 'www.runoob.com'}\n",
    "pop_obj=site.pop('name')\n",
    "print (pop_obj )"
   ]
  },
  {
   "cell_type": "code",
   "execution_count": 27,
   "metadata": {},
   "outputs": [],
   "source": [
    "def search(start, destination, connection_graph, sort_candidate):\n",
    "    pathes=[[start]]\n",
    "    visited=set()\n",
    "    while pathes:\n",
    "        path=pathes.pop(0)\n",
    "        froninter=path[-1]\n",
    "        if froninter in visited:continue\n",
    "        successors=connection_graph[froninter]\n",
    "        for city in successors:\n",
    "            if city in path: continue\n",
    "            new_path=path +[city]\n",
    "            pathes.append(new_path)\n",
    "            if city== destination:return new_path\n",
    "        visited.add(froninter)\n",
    "        pathes=sort_candidate(pathes)"
   ]
  },
  {
   "cell_type": "code",
   "execution_count": 28,
   "metadata": {},
   "outputs": [],
   "source": [
    "def transfer_stations_first(pathes): \n",
    "    return sorted(pathes, key=len)\n",
    "def transfer_as_much_possible(pathes):\n",
    "    return sorted(pathes, key=len, reverse=True)\n",
    "def shortest_path_first(pathes):\n",
    "    \n",
    "    if len(pathes) <= 1: return pathes\n",
    "    \n",
    "    def get_path_distnace(path):\n",
    "        distance = 0\n",
    "        for station in path[:-1]:\n",
    "            distance += get_geo_distance(station, path[-1])\n",
    "            \n",
    "        return distance\n",
    "\n",
    "    return sorted(pathes, key=get_path_distnace)"
   ]
  },
  {
   "cell_type": "code",
   "execution_count": 29,
   "metadata": {},
   "outputs": [
    {
     "data": {
      "text/plain": [
       "['兰州', '西安', '长沙', '福州']"
      ]
     },
     "execution_count": 29,
     "metadata": {},
     "output_type": "execute_result"
    }
   ],
   "source": [
    "search('兰州', '福州', simple_connection_info, sort_candidate=shortest_path_first)"
   ]
  },
  {
   "cell_type": "code",
   "execution_count": 31,
   "metadata": {},
   "outputs": [
    {
     "name": "stdout",
     "output_type": "stream",
     "text": [
      "北京🚗->太原🚗->西安🚗->长沙🚗->福州\n"
     ]
    }
   ],
   "source": [
    "def pretty_print(cities):\n",
    "    print('🚗->'.join(cities))\n",
    "pretty_print(search('北京', '福州', simple_connection_info,sort_candidate=shortest_path_first))"
   ]
  },
  {
   "cell_type": "code",
   "execution_count": 35,
   "metadata": {},
   "outputs": [
    {
     "name": "stdout",
     "output_type": "stream",
     "text": [
      "movie.douban.com/subject/24753477/?from=subject-page\n",
      "movie.douban.com/subject/26100958/?from=subject-page\n",
      "movie.douban.com/subject/25820460/?from=subject-page\n",
      "movie.douban.com/subject/1432146/?from=subject-page\n",
      "movie.douban.com/subject/1866473/?from=subject-page\n",
      "movie.douban.com/subject/25937854/?from=subject-page\n",
      "movie.douban.com/subject/25821634/?from=subject-page\n",
      "movie.douban.com/subject/26213252/?from=subject-page\n",
      "movie.douban.com/subject/4920389/?from=subject-page\n",
      "movie.douban.com/subject/3168101/?from=subject-page\n"
     ]
    }
   ],
   "source": [
    "import requests\n",
    "url='https://movie.douban.com/subject/26931786/?from=showing'\n",
    "response=requests.get(url)\n",
    "what_we_want=r'<a href=\"https://(movie\\.douban\\.com/subject/\\d+/\\?from=subject-page)\" class=\"\"'\n",
    "pattern = re.compile(what_we_want)\n",
    "likes = pattern.findall(response.text)\n",
    "for like in likes:\n",
    "    print(like)"
   ]
  },
  {
   "cell_type": "code",
   "execution_count": 5,
   "metadata": {},
   "outputs": [
    {
     "data": {
      "text/plain": [
       "array([2.7310e-02, 0.0000e+00, 7.0700e+00, 0.0000e+00, 4.6900e-01,\n",
       "       6.4210e+00, 7.8900e+01, 4.9671e+00, 2.0000e+00, 2.4200e+02,\n",
       "       1.7800e+01, 3.9690e+02, 9.1400e+00])"
      ]
     },
     "execution_count": 5,
     "metadata": {},
     "output_type": "execute_result"
    }
   ],
   "source": [
    "from sklearn.datasets import load_boston\n",
    "data=load_boston()\n",
    "x,y=data['data'],data['target']\n",
    "x[1]"
   ]
  },
  {
   "cell_type": "code",
   "execution_count": 6,
   "metadata": {},
   "outputs": [
    {
     "data": {
      "text/plain": [
       "21.6"
      ]
     },
     "execution_count": 6,
     "metadata": {},
     "output_type": "execute_result"
    }
   ],
   "source": [
    "y[1]"
   ]
  },
  {
   "cell_type": "code",
   "execution_count": 7,
   "metadata": {},
   "outputs": [
    {
     "data": {
      "text/plain": [
       "506"
      ]
     },
     "execution_count": 7,
     "metadata": {},
     "output_type": "execute_result"
    }
   ],
   "source": [
    "len(x[:,12])"
   ]
  },
  {
   "cell_type": "code",
   "execution_count": 8,
   "metadata": {},
   "outputs": [
    {
     "data": {
      "text/plain": [
       "'x 总共有13列，也就是13个特征，每个\\n特征有506 个数据，也就是总共有506组数据，每组数据13个特征。'"
      ]
     },
     "execution_count": 8,
     "metadata": {},
     "output_type": "execute_result"
    }
   ],
   "source": [
    "\"\"\"x 总共有13列，也就是13个特征，每个\n",
    "特征有506 个数据，也就是总共有506组数据，每组数据13个特征。\"\"\""
   ]
  },
  {
   "cell_type": "code",
   "execution_count": 9,
   "metadata": {},
   "outputs": [],
   "source": [
    "import matplotlib.pyplot as plt\n",
    "def draw_rm_price():\n",
    "    plt.scatter(x[:,5],y)"
   ]
  },
  {
   "cell_type": "code",
   "execution_count": 10,
   "metadata": {},
   "outputs": [
    {
     "data": {
      "image/png": "[encoded data removed]",
      "text/plain": [
       "<Figure size 432x288 with 1 Axes>"
      ]
     },
     "metadata": {
      "needs_background": "light"
     },
     "output_type": "display_data"
    }
   ],
   "source": [
    "draw_rm_price()"
   ]
  },
  {
   "cell_type": "code",
   "execution_count": 24,
   "metadata": {},
   "outputs": [],
   "source": [
    "import random\n",
    "def price(rm,k,b):\n",
    "    return k*rm+b"
   ]
  },
  {
   "cell_type": "code",
   "execution_count": null,
   "metadata": {},
   "outputs": [],
   "source": []
  },
  {
   "cell_type": "code",
   "execution_count": 25,
   "metadata": {},
   "outputs": [
    {
     "name": "stdout",
     "output_type": "stream",
     "text": [
      "min_loss=43.606524 , k = 9 , b = -34\n"
     ]
    },
    {
     "data": {
      "image/png": "[encoded data removed]",
      "text/plain": [
       "<Figure size 432x288 with 1 Axes>"
      ]
     },
     "metadata": {
      "needs_background": "light"
     },
     "output_type": "display_data"
    }
   ],
   "source": [
    "#随机取数\n",
    "def loss_fun(y,k,b,x):\n",
    "    y=list(y)\n",
    "    x=list(x)\n",
    "    loss=0\n",
    "    for i in range(len(y)):\n",
    "        delta=(y[i]-k*x[i]-b)**2\n",
    "        loss+=delta\n",
    "    return loss/float(len(y))\n",
    "def min_loss_r(n,a):\n",
    "    for i in range(n):\n",
    "        k_rm=random.randint(-100,100)\n",
    "        b_rm=random.randint(-100,100)\n",
    "        y_rm=data['target']\n",
    "        x_rm=data['data'][:,a]\n",
    "        loss_test=loss_fun(y_rm,k_rm,b_rm,x_rm)\n",
    "        if i ==0:\n",
    "            loss_min=loss_test\n",
    "            min_k=k_rm\n",
    "            min_b=b_rm\n",
    "        else:\n",
    "            if loss_min>loss_test:\n",
    "                loss_min=loss_test\n",
    "                min_k=k_rm\n",
    "                min_b=b_rm\n",
    "    price_by_random_k_and_b=[price(r,min_k,min_b) for r in x_rm]\n",
    "    draw_rm_price()\n",
    "    plt.scatter(x_rm,price_by_random_k_and_b)\n",
    "    print(\"min_loss=%f , k = %d , b = %d\" %(loss_min, min_k, min_b)  )\n",
    "min_loss_r(10000,5)"
   ]
  },
  {
   "cell_type": "code",
   "execution_count": 26,
   "metadata": {},
   "outputs": [
    {
     "name": "stdout",
     "output_type": "stream",
     "text": [
      "min_loss=72.229774 , k = 1 , b = 13\n"
     ]
    },
    {
     "data": {
      "image/png": "[encoded data removed]",
      "text/plain": [
       "<Figure size 432x288 with 1 Axes>"
      ]
     },
     "metadata": {
      "needs_background": "light"
     },
     "output_type": "display_data"
    }
   ],
   "source": [
    "#监督方法\n",
    "def min_loss_sup(n,a,rate):\n",
    "    \n",
    "    for i in range(n):\n",
    "        if i==0:\n",
    "            y_rm=data['target']\n",
    "            x_rm=data['data'][:,a]\n",
    "            \n",
    "            k_s=random.randint(-100,100)\n",
    "            b_s=random.randint(-100,100)\n",
    "            loss_test1=loss_fun(y_rm,k_s,b_s,x_rm)\n",
    "            loss_min=loss_test1\n",
    "            min_k=k_s\n",
    "            min_b=b_s\n",
    "            K_s=min_k-rate\n",
    "            B_s=min_b-rate\n",
    "            loss_test=loss_fun(y_rm,K_s,B_s,x_rm)\n",
    "        else:\n",
    "            delta=loss_min-loss_test\n",
    "            if delta >0:\n",
    "                forward=-1\n",
    "            else:\n",
    "                forward=+1\n",
    "            loss_min=loss_test\n",
    "            min_k=K_s\n",
    "            min_b=B_s\n",
    "            K_s=min_k+rate*forward\n",
    "            B_s=min_b+rate*forward\n",
    "            loss_test=loss_fun(y_rm,K_s,B_s,x_rm)\n",
    "\n",
    "    price_by_sup_k_and_b=[price(r,min_k,min_b) for r in x_rm]\n",
    "    draw_rm_price()\n",
    "    plt.scatter(x_rm,price_by_sup_k_and_b)\n",
    "    print(\"min_loss=%f , k = %d , b = %d\" %(loss_min, min_k, min_b)  )\n",
    "min_loss_sup(10000,5,0.1)"
   ]
  },
  {
   "cell_type": "code",
   "execution_count": 53,
   "metadata": {},
   "outputs": [],
   "source": [
    "#牛顿下降法\n",
    "\n",
    "def partial_k(x,y,k,b):\n",
    "    n=len(y)\n",
    "    gradient=0\n",
    "    y_hat = [price(r, k, b) for r in x]\n",
    "\n",
    "    for x_i,y_i,y_hat_i in zip(list(x),list(y),list(y_hat)):\n",
    "        gradient+=(y_i-y_hat_i)*x_i\n",
    "    return -2/n*gradient\n",
    "def partial_b(x,y,k,b):\n",
    "    n=len(y)\n",
    "    gradient=0\n",
    "    y_hat = [price(r, k, b) for r in x]\n",
    "    for y_i,y_hat_i in zip(list(y),list(y_hat)):\n",
    "        a=y_i-y_hat_i\n",
    "        gradient+=a\n",
    "    return -2/n*gradient\n",
    "\n"
   ]
  },
  {
   "cell_type": "code",
   "execution_count": 61,
   "metadata": {},
   "outputs": [
    {
     "name": "stdout",
     "output_type": "stream",
     "text": [
      "min_loss=43.633871 , k = 9 , b = -36\n"
     ]
    },
    {
     "data": {
      "image/png": "[encoded data removed]",
      "text/plain": [
       "<Figure size 432x288 with 1 Axes>"
      ]
     },
     "metadata": {
      "needs_background": "light"
     },
     "output_type": "display_data"
    }
   ],
   "source": [
    "def min_loss_G(n,a,rate):\n",
    "    \n",
    "    \n",
    "    y_rm=data['target']\n",
    "    x_rm=data['data'][:,a]\n",
    "\n",
    "    k_g=random.randint(-100,100)\n",
    "    b_g=random.randint(-100,100)\n",
    "    for i in range(n): \n",
    "        if i==0:\n",
    "            loss_test1=loss_fun(y_rm,k_g,b_g,x_rm)\n",
    "            loss_min=loss_test1\n",
    "            min_k=k_g\n",
    "            min_b=b_g\n",
    "            K_g=min_k-rate*partial_k(x_rm,y_rm,k_g,b_g)\n",
    "            B_g=min_b-rate*partial_b(x_rm,y_rm,k_g,b_g)\n",
    "            loss_test=loss_fun(y_rm,K_g,B_g,x_rm)\n",
    "        else:\n",
    "            loss_min=loss_test\n",
    "            min_k=K_g\n",
    "            min_b=B_g\n",
    "            K_g=min_k-rate*partial_k(x_rm,y_rm,K_g,B_g)\n",
    "            B_g=min_b-rate*partial_b(x_rm,y_rm,K_g,B_g)\n",
    "            loss_test=loss_fun(y_rm,K_g,B_g,x_rm)\n",
    "\n",
    "    price_by_gra_k_and_b=[price(r,min_k,min_b) for r in x_rm]\n",
    "    draw_rm_price()\n",
    "    plt.scatter(x_rm,price_by_gra_k_and_b)\n",
    "    print(\"min_loss=%f , k = %d , b = %d\" %(loss_min, min_k, min_b)  )\n",
    "min_loss_G(10000,5,0.01)"
   ]
  },
  {
   "cell_type": "code",
   "execution_count": null,
   "metadata": {},
   "outputs": [],
   "source": []
  }
 ],
 "metadata": {
  "kernelspec": {
   "display_name": "Python 3",
   "language": "python",
   "name": "python3"
  },
  "language_info": {
   "codemirror_mode": {
    "name": "ipython",
    "version": 3
   },
   "file_extension": ".py",
   "mimetype": "text/x-python",
   "name": "python",
   "nbconvert_exporter": "python",
   "pygments_lexer": "ipython3",
   "version": "3.7.1"
  }
 },
 "nbformat": 4,
 "nbformat_minor": 2
}
